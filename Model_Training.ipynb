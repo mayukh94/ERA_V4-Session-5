{
  "nbformat": 4,
  "nbformat_minor": 0,
  "metadata": {
    "colab": {
      "provenance": [],
      "gpuType": "T4"
    },
    "kernelspec": {
      "name": "python3",
      "display_name": "Python 3"
    },
    "language_info": {
      "name": "python"
    },
    "accelerator": "GPU"
  },
  "cells": [
    {
      "cell_type": "code",
      "execution_count": 44,
      "metadata": {
        "id": "joaOMJvNR3R6"
      },
      "outputs": [],
      "source": [
        "from __future__ import print_function\n",
        "import torch\n",
        "import torch.nn as nn\n",
        "import torch.nn.functional as F\n",
        "import torch.optim as optim\n",
        "from torchvision import datasets, transforms"
      ]
    },
    {
      "cell_type": "code",
      "source": [
        "import torch\n",
        "import torch.nn as nn\n",
        "import torch.nn.functional as F\n",
        "\n",
        "class Net(nn.Module):\n",
        "    def __init__(self):\n",
        "        super(Net, self).__init__()\n",
        "\n",
        "        self.bn1 = nn.BatchNorm2d(8)\n",
        "        self.bn2 = nn.BatchNorm2d(16)\n",
        "        self.dropout = nn.Dropout(0.05)\n",
        "        # --- Convolution layers ---\n",
        "        # Conv1: 1 -> 8, 3X3, padding=1\n",
        "        # self.conv1 = nn.Conv2d(in_channels=1, out_channels=8, kernel_size=3, padding=1)\n",
        "\n",
        "        self.conv1 = nn.Sequential(\n",
        "            nn.Conv2d(in_channels=1, out_channels=8, kernel_size=3, padding=1),\n",
        "            nn.ReLU(),\n",
        "            nn.BatchNorm2d(8),\n",
        "            nn.Dropout(0.05),\n",
        "            nn.Conv2d(in_channels=8, out_channels=16, kernel_size=3),\n",
        "            nn.ReLU(),\n",
        "            nn.BatchNorm2d(16),\n",
        "            nn.Dropout(0.05),\n",
        "            nn.MaxPool2d(2,2)\n",
        "        )\n",
        "\n",
        "        # Conv2: 8 -> 12, 5x5, no padding\n",
        "        self.conv2 = nn.Sequential(\n",
        "            nn.Conv2d(in_channels=16, out_channels=8, kernel_size=1, padding=1), #13X13\n",
        "            nn.ReLU(),\n",
        "            nn.BatchNorm2d(8),\n",
        "            nn.Dropout(0.05),\n",
        "            nn.Conv2d(in_channels=8, out_channels=16, kernel_size=3), #11X11\n",
        "            nn.ReLU(),\n",
        "            nn.BatchNorm2d(16),\n",
        "            nn.Dropout(0.05),\n",
        "            nn.Conv2d(in_channels=16, out_channels=32, kernel_size=3), #9X9  Rf= 16\n",
        "            nn.ReLU(),\n",
        "            nn.BatchNorm2d(32),\n",
        "            nn.Dropout(0.05),\n",
        "            nn.Conv2d(in_channels=32, out_channels=32, kernel_size=3), #7X7  Rf= 18\n",
        "            nn.ReLU(),\n",
        "            nn.BatchNorm2d(32),\n",
        "            nn.Dropout(0.05),\n",
        "        )\n",
        "        self.conv3 = nn.Sequential(\n",
        "            nn.Conv2d(in_channels=32, out_channels=10, kernel_size=3), #13X13\n",
        "            nn.ReLU(),\n",
        "            nn.BatchNorm2d(10),\n",
        "            nn.Dropout(0.05),\n",
        "            nn.AvgPool2d(5,5)\n",
        "        )\n",
        "\n",
        "    def forward(self, x):\n",
        "        # Conv + Pool\n",
        "        x = self.conv1(x)\n",
        "        x =self.conv2(x) # Output: 8 x 13 x 13\n",
        "        x = self.conv3(x)   # Output: 16 x 4 x 4\n",
        "\n",
        "        # Flatten\n",
        "        x = x.view(-1, 10)\n",
        "\n",
        "        return F.log_softmax(x, dim=1)\n"
      ],
      "metadata": {
        "id": "bjaPH9pMR-PQ"
      },
      "execution_count": 60,
      "outputs": []
    },
    {
      "cell_type": "code",
      "source": [
        "!pip install torchsummary\n",
        "from torchsummary import summary\n",
        "use_cuda = torch.cuda.is_available()\n",
        "device = torch.device(\"cuda\" if use_cuda else \"cpu\")\n",
        "model = Net().to(device)\n",
        "summary(model, input_size=(1, 28, 28))"
      ],
      "metadata": {
        "colab": {
          "base_uri": "https://localhost:8080/"
        },
        "id": "WD1tIbMHSFRO",
        "outputId": "31403f39-441c-4f11-8aa2-1c66df9a658c"
      },
      "execution_count": 61,
      "outputs": [
        {
          "output_type": "stream",
          "name": "stdout",
          "text": [
            "Requirement already satisfied: torchsummary in /usr/local/lib/python3.12/dist-packages (1.5.1)\n",
            "----------------------------------------------------------------\n",
            "        Layer (type)               Output Shape         Param #\n",
            "================================================================\n",
            "            Conv2d-1            [-1, 8, 28, 28]              80\n",
            "              ReLU-2            [-1, 8, 28, 28]               0\n",
            "       BatchNorm2d-3            [-1, 8, 28, 28]              16\n",
            "           Dropout-4            [-1, 8, 28, 28]               0\n",
            "            Conv2d-5           [-1, 16, 26, 26]           1,168\n",
            "              ReLU-6           [-1, 16, 26, 26]               0\n",
            "       BatchNorm2d-7           [-1, 16, 26, 26]              32\n",
            "           Dropout-8           [-1, 16, 26, 26]               0\n",
            "         MaxPool2d-9           [-1, 16, 13, 13]               0\n",
            "           Conv2d-10            [-1, 8, 15, 15]             136\n",
            "             ReLU-11            [-1, 8, 15, 15]               0\n",
            "      BatchNorm2d-12            [-1, 8, 15, 15]              16\n",
            "          Dropout-13            [-1, 8, 15, 15]               0\n",
            "           Conv2d-14           [-1, 16, 13, 13]           1,168\n",
            "             ReLU-15           [-1, 16, 13, 13]               0\n",
            "      BatchNorm2d-16           [-1, 16, 13, 13]              32\n",
            "          Dropout-17           [-1, 16, 13, 13]               0\n",
            "           Conv2d-18           [-1, 32, 11, 11]           4,640\n",
            "             ReLU-19           [-1, 32, 11, 11]               0\n",
            "      BatchNorm2d-20           [-1, 32, 11, 11]              64\n",
            "          Dropout-21           [-1, 32, 11, 11]               0\n",
            "           Conv2d-22             [-1, 32, 9, 9]           9,248\n",
            "             ReLU-23             [-1, 32, 9, 9]               0\n",
            "      BatchNorm2d-24             [-1, 32, 9, 9]              64\n",
            "          Dropout-25             [-1, 32, 9, 9]               0\n",
            "           Conv2d-26             [-1, 10, 7, 7]           2,890\n",
            "             ReLU-27             [-1, 10, 7, 7]               0\n",
            "      BatchNorm2d-28             [-1, 10, 7, 7]              20\n",
            "          Dropout-29             [-1, 10, 7, 7]               0\n",
            "        AvgPool2d-30             [-1, 10, 1, 1]               0\n",
            "================================================================\n",
            "Total params: 19,574\n",
            "Trainable params: 19,574\n",
            "Non-trainable params: 0\n",
            "----------------------------------------------------------------\n",
            "Input size (MB): 0.00\n",
            "Forward/backward pass size (MB): 0.89\n",
            "Params size (MB): 0.07\n",
            "Estimated Total Size (MB): 0.97\n",
            "----------------------------------------------------------------\n"
          ]
        }
      ]
    },
    {
      "cell_type": "code",
      "source": [
        "torch.manual_seed(1)\n",
        "batch_size = 128\n",
        "\n",
        "kwargs = {'num_workers': 1, 'pin_memory': True} if use_cuda else {}\n",
        "train_loader = torch.utils.data.DataLoader(\n",
        "    datasets.MNIST('../data', train=True, download=True,\n",
        "                    transform = transforms.Compose([\n",
        "                        transforms.RandomRotation(10),         # small rotation (-10° to +10°)\n",
        "                        transforms.RandomAffine(0, translate=(0.1, 0.1)),  # small shifts\n",
        "                        transforms.ToTensor(),\n",
        "                        transforms.Normalize((0.1307,), (0.3081,))\n",
        "                    ])\n",
        "                    ),\n",
        "    batch_size=batch_size, shuffle=True, **kwargs)\n",
        "test_loader = torch.utils.data.DataLoader(\n",
        "    datasets.MNIST('../data', train=False, transform=transforms.Compose([\n",
        "                        transforms.ToTensor(),\n",
        "                        transforms.Normalize((0.1307,), (0.3081,))\n",
        "                    ])),\n",
        "    batch_size=batch_size, shuffle=True, **kwargs)"
      ],
      "metadata": {
        "id": "DRiYvwY8SHnc"
      },
      "execution_count": 62,
      "outputs": []
    },
    {
      "cell_type": "code",
      "source": [
        "from tqdm import tqdm\n",
        "def train(model, device, train_loader, optimizer, epoch):\n",
        "    model.train()\n",
        "    pbar = tqdm(train_loader)\n",
        "    for batch_idx, (data, target) in enumerate(pbar):\n",
        "        data, target = data.to(device), target.to(device)\n",
        "        optimizer.zero_grad()\n",
        "        output = model(data)\n",
        "        loss = F.cross_entropy(output, target, label_smoothing=0.1)\n",
        "        loss.backward()\n",
        "        optimizer.step()\n",
        "        pbar.set_description(desc= f'loss={loss.item()} batch_id={batch_idx}')\n",
        "\n",
        "\n",
        "def test(model, device, test_loader):\n",
        "    model.eval()\n",
        "    test_loss = 0\n",
        "    correct = 0\n",
        "    with torch.no_grad():\n",
        "        for data, target in test_loader:\n",
        "            data, target = data.to(device), target.to(device)\n",
        "            output = model(data)\n",
        "            test_loss += F.nll_loss(output, target, reduction='sum').item()  # sum up batch loss\n",
        "            pred = output.argmax(dim=1, keepdim=True)  # get the index of the max log-probability\n",
        "            correct += pred.eq(target.view_as(pred)).sum().item()\n",
        "\n",
        "    test_loss /= len(test_loader.dataset)\n",
        "\n",
        "    print('\\nTest set: Average loss: {:.4f}, Accuracy: {}/{} ({:.2f}%)\\n'.format(\n",
        "        test_loss, correct, len(test_loader.dataset),\n",
        "        100. * correct / len(test_loader.dataset)))"
      ],
      "metadata": {
        "id": "hUYYxLfSSO1N"
      },
      "execution_count": 63,
      "outputs": []
    },
    {
      "cell_type": "code",
      "source": [
        "model = Net().to(device)\n",
        "optimizer = optim.SGD(model.parameters(), lr=0.015, momentum=0.9, weight_decay=1e-4)\n",
        "# Scheduler - reduces LR by factor 0.1 after every 5 epochs\n",
        "scheduler = torch.optim.lr_scheduler.CosineAnnealingLR(optimizer, T_max=20)\n",
        "for epoch in range(0, 20):\n",
        "    print('\\n Epoch:',epoch)\n",
        "    train(model, device, train_loader, optimizer, epoch)\n",
        "    test(model, device, test_loader)\n",
        "    scheduler.step()"
      ],
      "metadata": {
        "colab": {
          "base_uri": "https://localhost:8080/"
        },
        "id": "M_a209VGSbg0",
        "outputId": "d9ad1940-28de-4d94-9f32-27841d4bc71a"
      },
      "execution_count": null,
      "outputs": [
        {
          "output_type": "stream",
          "name": "stdout",
          "text": [
            "\n",
            " Epoch: 0\n"
          ]
        },
        {
          "output_type": "stream",
          "name": "stderr",
          "text": [
            "loss=0.5786581039428711 batch_id=468: 100%|██████████| 469/469 [00:26<00:00, 17.68it/s]\n"
          ]
        },
        {
          "output_type": "stream",
          "name": "stdout",
          "text": [
            "\n",
            "Test set: Average loss: 0.1040, Accuracy: 9862/10000 (98.62%)\n",
            "\n",
            "\n",
            " Epoch: 1\n"
          ]
        },
        {
          "output_type": "stream",
          "name": "stderr",
          "text": [
            "loss=0.5964041948318481 batch_id=468: 100%|██████████| 469/469 [00:26<00:00, 17.86it/s]\n"
          ]
        },
        {
          "output_type": "stream",
          "name": "stdout",
          "text": [
            "\n",
            "Test set: Average loss: 0.1037, Accuracy: 9895/10000 (98.95%)\n",
            "\n",
            "\n",
            " Epoch: 2\n"
          ]
        },
        {
          "output_type": "stream",
          "name": "stderr",
          "text": [
            "loss=0.5632540583610535 batch_id=468: 100%|██████████| 469/469 [00:26<00:00, 17.54it/s]\n"
          ]
        },
        {
          "output_type": "stream",
          "name": "stdout",
          "text": [
            "\n",
            "Test set: Average loss: 0.0921, Accuracy: 9923/10000 (99.23%)\n",
            "\n",
            "\n",
            " Epoch: 3\n"
          ]
        },
        {
          "output_type": "stream",
          "name": "stderr",
          "text": [
            "loss=0.5665469169616699 batch_id=468: 100%|██████████| 469/469 [00:27<00:00, 17.17it/s]\n"
          ]
        },
        {
          "output_type": "stream",
          "name": "stdout",
          "text": [
            "\n",
            "Test set: Average loss: 0.0894, Accuracy: 9911/10000 (99.11%)\n",
            "\n",
            "\n",
            " Epoch: 4\n"
          ]
        },
        {
          "output_type": "stream",
          "name": "stderr",
          "text": [
            "loss=0.6103847026824951 batch_id=468: 100%|██████████| 469/469 [00:27<00:00, 17.21it/s]\n"
          ]
        },
        {
          "output_type": "stream",
          "name": "stdout",
          "text": [
            "\n",
            "Test set: Average loss: 0.0760, Accuracy: 9927/10000 (99.27%)\n",
            "\n",
            "\n",
            " Epoch: 5\n"
          ]
        },
        {
          "output_type": "stream",
          "name": "stderr",
          "text": [
            "loss=0.5663328170776367 batch_id=468: 100%|██████████| 469/469 [00:26<00:00, 17.77it/s]\n"
          ]
        },
        {
          "output_type": "stream",
          "name": "stdout",
          "text": [
            "\n",
            "Test set: Average loss: 0.0886, Accuracy: 9936/10000 (99.36%)\n",
            "\n",
            "\n",
            " Epoch: 6\n"
          ]
        },
        {
          "output_type": "stream",
          "name": "stderr",
          "text": [
            "loss=0.5376228094100952 batch_id=468: 100%|██████████| 469/469 [00:26<00:00, 17.56it/s]\n"
          ]
        },
        {
          "output_type": "stream",
          "name": "stdout",
          "text": [
            "\n",
            "Test set: Average loss: 0.0912, Accuracy: 9937/10000 (99.37%)\n",
            "\n",
            "\n",
            " Epoch: 7\n"
          ]
        },
        {
          "output_type": "stream",
          "name": "stderr",
          "text": [
            "loss=0.5668646097183228 batch_id=468: 100%|██████████| 469/469 [00:27<00:00, 17.03it/s]\n"
          ]
        },
        {
          "output_type": "stream",
          "name": "stdout",
          "text": [
            "\n",
            "Test set: Average loss: 0.0886, Accuracy: 9941/10000 (99.41%)\n",
            "\n",
            "\n",
            " Epoch: 8\n"
          ]
        },
        {
          "output_type": "stream",
          "name": "stderr",
          "text": [
            "loss=0.5443056225776672 batch_id=468: 100%|██████████| 469/469 [00:26<00:00, 17.43it/s]\n"
          ]
        },
        {
          "output_type": "stream",
          "name": "stdout",
          "text": [
            "\n",
            "Test set: Average loss: 0.0863, Accuracy: 9936/10000 (99.36%)\n",
            "\n",
            "\n",
            " Epoch: 9\n"
          ]
        },
        {
          "output_type": "stream",
          "name": "stderr",
          "text": [
            "loss=0.5559560060501099 batch_id=468: 100%|██████████| 469/469 [00:26<00:00, 18.03it/s]\n"
          ]
        },
        {
          "output_type": "stream",
          "name": "stdout",
          "text": [
            "\n",
            "Test set: Average loss: 0.0890, Accuracy: 9946/10000 (99.46%)\n",
            "\n",
            "\n",
            " Epoch: 10\n"
          ]
        },
        {
          "output_type": "stream",
          "name": "stderr",
          "text": [
            "loss=0.5361658930778503 batch_id=468: 100%|██████████| 469/469 [00:26<00:00, 17.81it/s]\n"
          ]
        },
        {
          "output_type": "stream",
          "name": "stdout",
          "text": [
            "\n",
            "Test set: Average loss: 0.0880, Accuracy: 9952/10000 (99.52%)\n",
            "\n",
            "\n",
            " Epoch: 11\n"
          ]
        },
        {
          "output_type": "stream",
          "name": "stderr",
          "text": [
            "loss=0.5355821847915649 batch_id=468: 100%|██████████| 469/469 [00:26<00:00, 17.97it/s]\n"
          ]
        },
        {
          "output_type": "stream",
          "name": "stdout",
          "text": [
            "\n",
            "Test set: Average loss: 0.0888, Accuracy: 9946/10000 (99.46%)\n",
            "\n",
            "\n",
            " Epoch: 12\n"
          ]
        },
        {
          "output_type": "stream",
          "name": "stderr",
          "text": [
            "loss=0.5606654286384583 batch_id=468: 100%|██████████| 469/469 [00:26<00:00, 17.82it/s]\n"
          ]
        },
        {
          "output_type": "stream",
          "name": "stdout",
          "text": [
            "\n",
            "Test set: Average loss: 0.0898, Accuracy: 9945/10000 (99.45%)\n",
            "\n",
            "\n",
            " Epoch: 13\n"
          ]
        },
        {
          "output_type": "stream",
          "name": "stderr",
          "text": [
            "loss=0.5678595304489136 batch_id=468: 100%|██████████| 469/469 [00:27<00:00, 16.96it/s]\n"
          ]
        },
        {
          "output_type": "stream",
          "name": "stdout",
          "text": [
            "\n",
            "Test set: Average loss: 0.0904, Accuracy: 9947/10000 (99.47%)\n",
            "\n",
            "\n",
            " Epoch: 14\n"
          ]
        },
        {
          "output_type": "stream",
          "name": "stderr",
          "text": [
            "loss=0.5461607575416565 batch_id=468: 100%|██████████| 469/469 [00:25<00:00, 18.10it/s]\n"
          ]
        },
        {
          "output_type": "stream",
          "name": "stdout",
          "text": [
            "\n",
            "Test set: Average loss: 0.0913, Accuracy: 9950/10000 (99.50%)\n",
            "\n",
            "\n",
            " Epoch: 15\n"
          ]
        },
        {
          "output_type": "stream",
          "name": "stderr",
          "text": [
            "loss=0.5516365766525269 batch_id=468: 100%|██████████| 469/469 [00:26<00:00, 17.91it/s]\n"
          ]
        },
        {
          "output_type": "stream",
          "name": "stdout",
          "text": [
            "\n",
            "Test set: Average loss: 0.0915, Accuracy: 9951/10000 (99.51%)\n",
            "\n",
            "\n",
            " Epoch: 16\n"
          ]
        },
        {
          "output_type": "stream",
          "name": "stderr",
          "text": [
            "loss=0.5415048599243164 batch_id=468: 100%|██████████| 469/469 [00:26<00:00, 17.54it/s]\n"
          ]
        },
        {
          "output_type": "stream",
          "name": "stdout",
          "text": [
            "\n",
            "Test set: Average loss: 0.0906, Accuracy: 9948/10000 (99.48%)\n",
            "\n",
            "\n",
            " Epoch: 17\n"
          ]
        },
        {
          "output_type": "stream",
          "name": "stderr",
          "text": [
            "loss=0.5320581197738647 batch_id=189:  41%|████      | 190/469 [00:10<00:14, 18.75it/s]"
          ]
        }
      ]
    },
    {
      "cell_type": "code",
      "source": [],
      "metadata": {
        "id": "tK34OOOCSfcp"
      },
      "execution_count": null,
      "outputs": []
    }
  ]
}